{
 "cells": [
  {
   "cell_type": "code",
   "execution_count": 1,
   "id": "5fe01464",
   "metadata": {},
   "outputs": [
    {
     "data": {
      "text/plain": [
       "True"
      ]
     },
     "execution_count": 1,
     "metadata": {},
     "output_type": "execute_result"
    }
   ],
   "source": [
    "from langgraph.graph import StateGraph, START, END\n",
    "from typing import TypedDict\n",
    "from langchain_openai import ChatOpenAI\n",
    "from dotenv import load_dotenv\n",
    "from langgraph.checkpoint.memory import InMemorySaver ## Change to MemorySaver for persistent storage\n",
    "from langchain_groq import ChatGroq\n",
    "import os\n",
    "from dotenv import load_dotenv\n",
    "from langgraph.checkpoint.memory import MemorySaver\n",
    "load_dotenv()"
   ]
  },
  {
   "cell_type": "code",
   "execution_count": 2,
   "id": "d65bfc11",
   "metadata": {},
   "outputs": [],
   "source": [
    "\n",
    "\n",
    "llm = ChatGroq(\n",
    "        groq_api_key=os.getenv(\"GROQ_API_KEY\"), # type: ignore\n",
    "        model_name=\"Gemma2-9b-It\",# type: ignore\n",
    "        temperature=0.2 ## this is creative parameter\n",
    "    )"
   ]
  },
  {
   "cell_type": "code",
   "execution_count": 4,
   "id": "5922b899",
   "metadata": {},
   "outputs": [],
   "source": [
    "class JokeState(TypedDict):\n",
    "    '''\n",
    "    JokeState is a TypedDict that defines the structure of the state used in the joke graph.\n",
    "\n",
    "    '''\n",
    "\n",
    "    topic: str\n",
    "    joke: str\n",
    "    explanation: str"
   ]
  },
  {
   "cell_type": "code",
   "execution_count": 5,
   "id": "0561076c",
   "metadata": {},
   "outputs": [],
   "source": [
    "def generate_joke(state: JokeState) -> dict[str, str]:\n",
    "\n",
    "    prompt = f'generate a joke on the topic {state[\"topic\"]}'\n",
    "    response = llm.invoke(prompt).content\n",
    "\n",
    "    return {'joke': response}"
   ]
  },
  {
   "cell_type": "code",
   "execution_count": 6,
   "id": "d95ff880",
   "metadata": {},
   "outputs": [],
   "source": [
    "def generate_explanation(state: JokeState) -> dict[str, str]:\n",
    "\n",
    "    prompt = f'write an explanation for the joke - {state[\"joke\"]}'\n",
    "    response = llm.invoke(prompt).content\n",
    "\n",
    "    return {'explanation': response}"
   ]
  },
  {
   "cell_type": "code",
   "execution_count": 7,
   "id": "a1093470",
   "metadata": {},
   "outputs": [],
   "source": [
    "graph = StateGraph(JokeState)\n",
    "\n",
    "graph.add_node('generate_joke', generate_joke)\n",
    "graph.add_node('generate_explanation', generate_explanation)\n",
    "\n",
    "graph.add_edge(START, 'generate_joke')\n",
    "graph.add_edge('generate_joke', 'generate_explanation')\n",
    "graph.add_edge('generate_explanation', END)\n",
    "\n",
    "checkpointer = InMemorySaver()\n",
    "\n",
    "workflow = graph.compile(checkpointer=checkpointer)"
   ]
  },
  {
   "cell_type": "code",
   "execution_count": 8,
   "id": "429633a8",
   "metadata": {},
   "outputs": [
    {
     "data": {
      "image/png": "[encoded data removed]",
      "text/plain": [
       "<langgraph.graph.state.CompiledStateGraph object at 0x0000018DDAFB96D0>"
      ]
     },
     "execution_count": 8,
     "metadata": {},
     "output_type": "execute_result"
    }
   ],
   "source": [
    "workflow"
   ]
  },
  {
   "cell_type": "code",
   "execution_count": 9,
   "id": "5e8f11c8",
   "metadata": {},
   "outputs": [
    {
     "data": {
      "text/plain": [
       "{'topic': 'pizza',\n",
       " 'joke': 'Why did the pizza slice go to the doctor? \\n\\nBecause it was feeling a little cheesy! 🍕🩺  \\n',\n",
       " 'explanation': 'This joke plays on the double meaning of the word \"cheesy.\" \\n\\n* **Literal meaning:** Pizza is made with cheese, so a slice of pizza literally *is* cheesy.\\n\\n* **Figurative meaning:**  \"Cheesy\" can also mean something that is corny, cheesy, or unoriginal.  \\n\\nThe joke sets you up to think about the pizza slice literally being made of cheese. Then, it uses the word \"cheesy\" in its figurative sense to mean the pizza slice is feeling unwell or a bit silly.  \\n\\n\\nLet me know if you\\'d like to hear another joke! 😊 \\n\\n'}"
      ]
     },
     "execution_count": 9,
     "metadata": {},
     "output_type": "execute_result"
    }
   ],
   "source": [
    "config1 = {\"configurable\": {\"thread_id\": \"1\"}}\n",
    "workflow.invoke({'topic':'pizza'}, config=config1)"
   ]
  },
  {
   "cell_type": "code",
   "execution_count": 10,
   "id": "a6857b9c",
   "metadata": {},
   "outputs": [
    {
     "data": {
      "text/plain": [
       "StateSnapshot(values={'topic': 'pizza', 'joke': 'Why did the pizza slice go to the doctor? \\n\\nBecause it was feeling a little cheesy! 🍕🩺  \\n', 'explanation': 'This joke plays on the double meaning of the word \"cheesy.\" \\n\\n* **Literal meaning:** Pizza is made with cheese, so a slice of pizza literally *is* cheesy.\\n\\n* **Figurative meaning:**  \"Cheesy\" can also mean something that is corny, cheesy, or unoriginal.  \\n\\nThe joke sets you up to think about the pizza slice literally being made of cheese. Then, it uses the word \"cheesy\" in its figurative sense to mean the pizza slice is feeling unwell or a bit silly.  \\n\\n\\nLet me know if you\\'d like to hear another joke! 😊 \\n\\n'}, next=(), config={'configurable': {'thread_id': '1', 'checkpoint_ns': '', 'checkpoint_id': '1f0798d1-d819-6cb0-8002-8b402bb55ef1'}}, metadata={'source': 'loop', 'writes': {'generate_explanation': {'explanation': 'This joke plays on the double meaning of the word \"cheesy.\" \\n\\n* **Literal meaning:** Pizza is made with cheese, so a slice of pizza literally *is* cheesy.\\n\\n* **Figurative meaning:**  \"Cheesy\" can also mean something that is corny, cheesy, or unoriginal.  \\n\\nThe joke sets you up to think about the pizza slice literally being made of cheese. Then, it uses the word \"cheesy\" in its figurative sense to mean the pizza slice is feeling unwell or a bit silly.  \\n\\n\\nLet me know if you\\'d like to hear another joke! 😊 \\n\\n'}}, 'step': 2, 'parents': {}, 'thread_id': '1'}, created_at='2025-08-15T04:05:44.086852+00:00', parent_config={'configurable': {'thread_id': '1', 'checkpoint_ns': '', 'checkpoint_id': '1f0798d1-d213-6e53-8001-3128f0042ce5'}}, tasks=(), interrupts=())"
      ]
     },
     "execution_count": 10,
     "metadata": {},
     "output_type": "execute_result"
    }
   ],
   "source": [
    "workflow.get_state(config1)"
   ]
  },
  {
   "cell_type": "code",
   "execution_count": 11,
   "id": "eb9eecda",
   "metadata": {},
   "outputs": [
    {
     "data": {
      "text/plain": [
       "[StateSnapshot(values={'topic': 'pizza', 'joke': 'Why did the pizza slice go to the doctor? \\n\\nBecause it was feeling a little cheesy! 🍕🩺  \\n', 'explanation': 'This joke plays on the double meaning of the word \"cheesy.\" \\n\\n* **Literal meaning:** Pizza is made with cheese, so a slice of pizza literally *is* cheesy.\\n\\n* **Figurative meaning:**  \"Cheesy\" can also mean something that is corny, cheesy, or unoriginal.  \\n\\nThe joke sets you up to think about the pizza slice literally being made of cheese. Then, it uses the word \"cheesy\" in its figurative sense to mean the pizza slice is feeling unwell or a bit silly.  \\n\\n\\nLet me know if you\\'d like to hear another joke! 😊 \\n\\n'}, next=(), config={'configurable': {'thread_id': '1', 'checkpoint_ns': '', 'checkpoint_id': '1f0798d1-d819-6cb0-8002-8b402bb55ef1'}}, metadata={'source': 'loop', 'writes': {'generate_explanation': {'explanation': 'This joke plays on the double meaning of the word \"cheesy.\" \\n\\n* **Literal meaning:** Pizza is made with cheese, so a slice of pizza literally *is* cheesy.\\n\\n* **Figurative meaning:**  \"Cheesy\" can also mean something that is corny, cheesy, or unoriginal.  \\n\\nThe joke sets you up to think about the pizza slice literally being made of cheese. Then, it uses the word \"cheesy\" in its figurative sense to mean the pizza slice is feeling unwell or a bit silly.  \\n\\n\\nLet me know if you\\'d like to hear another joke! 😊 \\n\\n'}}, 'step': 2, 'parents': {}, 'thread_id': '1'}, created_at='2025-08-15T04:05:44.086852+00:00', parent_config={'configurable': {'thread_id': '1', 'checkpoint_ns': '', 'checkpoint_id': '1f0798d1-d213-6e53-8001-3128f0042ce5'}}, tasks=(), interrupts=()),\n",
       " StateSnapshot(values={'topic': 'pizza', 'joke': 'Why did the pizza slice go to the doctor? \\n\\nBecause it was feeling a little cheesy! 🍕🩺  \\n'}, next=('generate_explanation',), config={'configurable': {'thread_id': '1', 'checkpoint_ns': '', 'checkpoint_id': '1f0798d1-d213-6e53-8001-3128f0042ce5'}}, metadata={'source': 'loop', 'writes': {'generate_joke': {'joke': 'Why did the pizza slice go to the doctor? \\n\\nBecause it was feeling a little cheesy! 🍕🩺  \\n'}}, 'step': 1, 'parents': {}, 'thread_id': '1'}, created_at='2025-08-15T04:05:43.455291+00:00', parent_config={'configurable': {'thread_id': '1', 'checkpoint_ns': '', 'checkpoint_id': '1f0798d1-cb11-6ae2-8000-0c90f8597751'}}, tasks=(PregelTask(id='ada518b1-6568-983e-c2fe-006fe1943c37', name='generate_explanation', path=('__pregel_pull', 'generate_explanation'), error=None, interrupts=(), state=None, result={'explanation': 'This joke plays on the double meaning of the word \"cheesy.\" \\n\\n* **Literal meaning:** Pizza is made with cheese, so a slice of pizza literally *is* cheesy.\\n\\n* **Figurative meaning:**  \"Cheesy\" can also mean something that is corny, cheesy, or unoriginal.  \\n\\nThe joke sets you up to think about the pizza slice literally being made of cheese. Then, it uses the word \"cheesy\" in its figurative sense to mean the pizza slice is feeling unwell or a bit silly.  \\n\\n\\nLet me know if you\\'d like to hear another joke! 😊 \\n\\n'}),), interrupts=()),\n",
       " StateSnapshot(values={'topic': 'pizza'}, next=('generate_joke',), config={'configurable': {'thread_id': '1', 'checkpoint_ns': '', 'checkpoint_id': '1f0798d1-cb11-6ae2-8000-0c90f8597751'}}, metadata={'source': 'loop', 'writes': None, 'step': 0, 'parents': {}, 'thread_id': '1'}, created_at='2025-08-15T04:05:42.720381+00:00', parent_config={'configurable': {'thread_id': '1', 'checkpoint_ns': '', 'checkpoint_id': '1f0798d1-cb0e-64ba-bfff-d379939e501d'}}, tasks=(PregelTask(id='522aabfd-2d1f-8679-5552-db2dd02f0013', name='generate_joke', path=('__pregel_pull', 'generate_joke'), error=None, interrupts=(), state=None, result={'joke': 'Why did the pizza slice go to the doctor? \\n\\nBecause it was feeling a little cheesy! 🍕🩺  \\n'}),), interrupts=()),\n",
       " StateSnapshot(values={}, next=('__start__',), config={'configurable': {'thread_id': '1', 'checkpoint_ns': '', 'checkpoint_id': '1f0798d1-cb0e-64ba-bfff-d379939e501d'}}, metadata={'source': 'input', 'writes': {'__start__': {'topic': 'pizza'}}, 'step': -1, 'parents': {}, 'thread_id': '1'}, created_at='2025-08-15T04:05:42.718994+00:00', parent_config=None, tasks=(PregelTask(id='d542600b-b50d-7dce-97ff-d6b0ac51d055', name='__start__', path=('__pregel_pull', '__start__'), error=None, interrupts=(), state=None, result={'topic': 'pizza'}),), interrupts=())]"
      ]
     },
     "execution_count": 11,
     "metadata": {},
     "output_type": "execute_result"
    }
   ],
   "source": [
    "list(workflow.get_state_history(config1))"
   ]
  },
  {
   "cell_type": "code",
   "execution_count": 12,
   "id": "628a9f28",
   "metadata": {},
   "outputs": [
    {
     "data": {
      "text/plain": [
       "{'topic': 'pasta',\n",
       " 'joke': 'Why did the pasta blush? \\n\\nBecause it saw the salad dressing! 🍝🍅  \\n',\n",
       " 'explanation': 'This joke plays on the word \"dressing\" having two meanings:\\n\\n* **Food dressing:**  A sauce or condiment used on salads.\\n* **Dressing someone down:**  Criticizing or reprimanding someone.\\n\\nThe joke sets up the expectation that the pasta will blush for a romantic reason, like seeing someone attractive.  However, the punchline uses the food meaning of \"dressing,\" implying the pasta is embarrassed or flustered by the salad dressing, creating a silly and unexpected twist. \\n\\n\\nLet me know if you\\'d like to hear another joke! 😄 \\n'}"
      ]
     },
     "execution_count": 12,
     "metadata": {},
     "output_type": "execute_result"
    }
   ],
   "source": [
    "config2 = {\"configurable\": {\"thread_id\": \"2\"}}\n",
    "workflow.invoke({'topic':'pasta'}, config=config2)"
   ]
  },
  {
   "cell_type": "code",
   "execution_count": 13,
   "id": "eef5beb5",
   "metadata": {},
   "outputs": [
    {
     "data": {
      "text/plain": [
       "StateSnapshot(values={'topic': 'pizza', 'joke': 'Why did the pizza slice go to the doctor? \\n\\nBecause it was feeling a little cheesy! 🍕🩺  \\n', 'explanation': 'This joke plays on the double meaning of the word \"cheesy.\" \\n\\n* **Literal meaning:** Pizza is made with cheese, so a slice of pizza literally *is* cheesy.\\n\\n* **Figurative meaning:**  \"Cheesy\" can also mean something that is corny, cheesy, or unoriginal.  \\n\\nThe joke sets you up to think about the pizza slice literally being made of cheese. Then, it uses the word \"cheesy\" in its figurative sense to mean the pizza slice is feeling unwell or a bit silly.  \\n\\n\\nLet me know if you\\'d like to hear another joke! 😊 \\n\\n'}, next=(), config={'configurable': {'thread_id': '1', 'checkpoint_ns': '', 'checkpoint_id': '1f0798d1-d819-6cb0-8002-8b402bb55ef1'}}, metadata={'source': 'loop', 'writes': {'generate_explanation': {'explanation': 'This joke plays on the double meaning of the word \"cheesy.\" \\n\\n* **Literal meaning:** Pizza is made with cheese, so a slice of pizza literally *is* cheesy.\\n\\n* **Figurative meaning:**  \"Cheesy\" can also mean something that is corny, cheesy, or unoriginal.  \\n\\nThe joke sets you up to think about the pizza slice literally being made of cheese. Then, it uses the word \"cheesy\" in its figurative sense to mean the pizza slice is feeling unwell or a bit silly.  \\n\\n\\nLet me know if you\\'d like to hear another joke! 😊 \\n\\n'}}, 'step': 2, 'parents': {}, 'thread_id': '1'}, created_at='2025-08-15T04:05:44.086852+00:00', parent_config={'configurable': {'thread_id': '1', 'checkpoint_ns': '', 'checkpoint_id': '1f0798d1-d213-6e53-8001-3128f0042ce5'}}, tasks=(), interrupts=())"
      ]
     },
     "execution_count": 13,
     "metadata": {},
     "output_type": "execute_result"
    }
   ],
   "source": [
    "workflow.get_state(config1)"
   ]
  },
  {
   "cell_type": "code",
   "execution_count": 14,
   "id": "f7d0ea21",
   "metadata": {},
   "outputs": [
    {
     "data": {
      "text/plain": [
       "[StateSnapshot(values={'topic': 'pizza', 'joke': 'Why did the pizza slice go to the doctor? \\n\\nBecause it was feeling a little cheesy! 🍕🩺  \\n', 'explanation': 'This joke plays on the double meaning of the word \"cheesy.\" \\n\\n* **Literal meaning:** Pizza is made with cheese, so a slice of pizza literally *is* cheesy.\\n\\n* **Figurative meaning:**  \"Cheesy\" can also mean something that is corny, cheesy, or unoriginal.  \\n\\nThe joke sets you up to think about the pizza slice literally being made of cheese. Then, it uses the word \"cheesy\" in its figurative sense to mean the pizza slice is feeling unwell or a bit silly.  \\n\\n\\nLet me know if you\\'d like to hear another joke! 😊 \\n\\n'}, next=(), config={'configurable': {'thread_id': '1', 'checkpoint_ns': '', 'checkpoint_id': '1f0798d1-d819-6cb0-8002-8b402bb55ef1'}}, metadata={'source': 'loop', 'writes': {'generate_explanation': {'explanation': 'This joke plays on the double meaning of the word \"cheesy.\" \\n\\n* **Literal meaning:** Pizza is made with cheese, so a slice of pizza literally *is* cheesy.\\n\\n* **Figurative meaning:**  \"Cheesy\" can also mean something that is corny, cheesy, or unoriginal.  \\n\\nThe joke sets you up to think about the pizza slice literally being made of cheese. Then, it uses the word \"cheesy\" in its figurative sense to mean the pizza slice is feeling unwell or a bit silly.  \\n\\n\\nLet me know if you\\'d like to hear another joke! 😊 \\n\\n'}}, 'step': 2, 'parents': {}, 'thread_id': '1'}, created_at='2025-08-15T04:05:44.086852+00:00', parent_config={'configurable': {'thread_id': '1', 'checkpoint_ns': '', 'checkpoint_id': '1f0798d1-d213-6e53-8001-3128f0042ce5'}}, tasks=(), interrupts=()),\n",
       " StateSnapshot(values={'topic': 'pizza', 'joke': 'Why did the pizza slice go to the doctor? \\n\\nBecause it was feeling a little cheesy! 🍕🩺  \\n'}, next=('generate_explanation',), config={'configurable': {'thread_id': '1', 'checkpoint_ns': '', 'checkpoint_id': '1f0798d1-d213-6e53-8001-3128f0042ce5'}}, metadata={'source': 'loop', 'writes': {'generate_joke': {'joke': 'Why did the pizza slice go to the doctor? \\n\\nBecause it was feeling a little cheesy! 🍕🩺  \\n'}}, 'step': 1, 'parents': {}, 'thread_id': '1'}, created_at='2025-08-15T04:05:43.455291+00:00', parent_config={'configurable': {'thread_id': '1', 'checkpoint_ns': '', 'checkpoint_id': '1f0798d1-cb11-6ae2-8000-0c90f8597751'}}, tasks=(PregelTask(id='ada518b1-6568-983e-c2fe-006fe1943c37', name='generate_explanation', path=('__pregel_pull', 'generate_explanation'), error=None, interrupts=(), state=None, result={'explanation': 'This joke plays on the double meaning of the word \"cheesy.\" \\n\\n* **Literal meaning:** Pizza is made with cheese, so a slice of pizza literally *is* cheesy.\\n\\n* **Figurative meaning:**  \"Cheesy\" can also mean something that is corny, cheesy, or unoriginal.  \\n\\nThe joke sets you up to think about the pizza slice literally being made of cheese. Then, it uses the word \"cheesy\" in its figurative sense to mean the pizza slice is feeling unwell or a bit silly.  \\n\\n\\nLet me know if you\\'d like to hear another joke! 😊 \\n\\n'}),), interrupts=()),\n",
       " StateSnapshot(values={'topic': 'pizza'}, next=('generate_joke',), config={'configurable': {'thread_id': '1', 'checkpoint_ns': '', 'checkpoint_id': '1f0798d1-cb11-6ae2-8000-0c90f8597751'}}, metadata={'source': 'loop', 'writes': None, 'step': 0, 'parents': {}, 'thread_id': '1'}, created_at='2025-08-15T04:05:42.720381+00:00', parent_config={'configurable': {'thread_id': '1', 'checkpoint_ns': '', 'checkpoint_id': '1f0798d1-cb0e-64ba-bfff-d379939e501d'}}, tasks=(PregelTask(id='522aabfd-2d1f-8679-5552-db2dd02f0013', name='generate_joke', path=('__pregel_pull', 'generate_joke'), error=None, interrupts=(), state=None, result={'joke': 'Why did the pizza slice go to the doctor? \\n\\nBecause it was feeling a little cheesy! 🍕🩺  \\n'}),), interrupts=()),\n",
       " StateSnapshot(values={}, next=('__start__',), config={'configurable': {'thread_id': '1', 'checkpoint_ns': '', 'checkpoint_id': '1f0798d1-cb0e-64ba-bfff-d379939e501d'}}, metadata={'source': 'input', 'writes': {'__start__': {'topic': 'pizza'}}, 'step': -1, 'parents': {}, 'thread_id': '1'}, created_at='2025-08-15T04:05:42.718994+00:00', parent_config=None, tasks=(PregelTask(id='d542600b-b50d-7dce-97ff-d6b0ac51d055', name='__start__', path=('__pregel_pull', '__start__'), error=None, interrupts=(), state=None, result={'topic': 'pizza'}),), interrupts=())]"
      ]
     },
     "execution_count": 14,
     "metadata": {},
     "output_type": "execute_result"
    }
   ],
   "source": [
    "list(workflow.get_state_history(config1))"
   ]
  },
  {
   "cell_type": "code",
   "execution_count": 15,
   "id": "98da2101",
   "metadata": {},
   "outputs": [
    {
     "data": {
      "text/plain": [
       "[StateSnapshot(values={'topic': 'pasta', 'joke': 'Why did the pasta blush? \\n\\nBecause it saw the salad dressing! 🍝🍅  \\n', 'explanation': 'This joke plays on the word \"dressing\" having two meanings:\\n\\n* **Food dressing:**  A sauce or condiment used on salads.\\n* **Dressing someone down:**  Criticizing or reprimanding someone.\\n\\nThe joke sets up the expectation that the pasta will blush for a romantic reason, like seeing someone attractive.  However, the punchline uses the food meaning of \"dressing,\" implying the pasta is embarrassed or flustered by the salad dressing, creating a silly and unexpected twist. \\n\\n\\nLet me know if you\\'d like to hear another joke! 😄 \\n'}, next=(), config={'configurable': {'thread_id': '2', 'checkpoint_ns': '', 'checkpoint_id': '1f0798d2-13a5-61de-8002-004dcfd5f348'}}, metadata={'source': 'loop', 'writes': {'generate_explanation': {'explanation': 'This joke plays on the word \"dressing\" having two meanings:\\n\\n* **Food dressing:**  A sauce or condiment used on salads.\\n* **Dressing someone down:**  Criticizing or reprimanding someone.\\n\\nThe joke sets up the expectation that the pasta will blush for a romantic reason, like seeing someone attractive.  However, the punchline uses the food meaning of \"dressing,\" implying the pasta is embarrassed or flustered by the salad dressing, creating a silly and unexpected twist. \\n\\n\\nLet me know if you\\'d like to hear another joke! 😄 \\n'}}, 'step': 2, 'parents': {}, 'thread_id': '2'}, created_at='2025-08-15T04:05:50.330518+00:00', parent_config={'configurable': {'thread_id': '2', 'checkpoint_ns': '', 'checkpoint_id': '1f0798d2-0d06-6867-8001-932871b5687e'}}, tasks=(), interrupts=()),\n",
       " StateSnapshot(values={'topic': 'pasta', 'joke': 'Why did the pasta blush? \\n\\nBecause it saw the salad dressing! 🍝🍅  \\n'}, next=('generate_explanation',), config={'configurable': {'thread_id': '2', 'checkpoint_ns': '', 'checkpoint_id': '1f0798d2-0d06-6867-8001-932871b5687e'}}, metadata={'source': 'loop', 'writes': {'generate_joke': {'joke': 'Why did the pasta blush? \\n\\nBecause it saw the salad dressing! 🍝🍅  \\n'}}, 'step': 1, 'parents': {}, 'thread_id': '2'}, created_at='2025-08-15T04:05:49.636413+00:00', parent_config={'configurable': {'thread_id': '2', 'checkpoint_ns': '', 'checkpoint_id': '1f0798d2-0800-67d0-8000-8103272db4e5'}}, tasks=(PregelTask(id='dfe34799-35de-1678-249f-cc26db4f029e', name='generate_explanation', path=('__pregel_pull', 'generate_explanation'), error=None, interrupts=(), state=None, result={'explanation': 'This joke plays on the word \"dressing\" having two meanings:\\n\\n* **Food dressing:**  A sauce or condiment used on salads.\\n* **Dressing someone down:**  Criticizing or reprimanding someone.\\n\\nThe joke sets up the expectation that the pasta will blush for a romantic reason, like seeing someone attractive.  However, the punchline uses the food meaning of \"dressing,\" implying the pasta is embarrassed or flustered by the salad dressing, creating a silly and unexpected twist. \\n\\n\\nLet me know if you\\'d like to hear another joke! 😄 \\n'}),), interrupts=()),\n",
       " StateSnapshot(values={'topic': 'pasta'}, next=('generate_joke',), config={'configurable': {'thread_id': '2', 'checkpoint_ns': '', 'checkpoint_id': '1f0798d2-0800-67d0-8000-8103272db4e5'}}, metadata={'source': 'loop', 'writes': None, 'step': 0, 'parents': {}, 'thread_id': '2'}, created_at='2025-08-15T04:05:49.109652+00:00', parent_config={'configurable': {'thread_id': '2', 'checkpoint_ns': '', 'checkpoint_id': '1f0798d2-07fe-60d8-bfff-876d3a937b23'}}, tasks=(PregelTask(id='df70b80e-a9ff-ad1b-b1a8-3ca2b0257ea5', name='generate_joke', path=('__pregel_pull', 'generate_joke'), error=None, interrupts=(), state=None, result={'joke': 'Why did the pasta blush? \\n\\nBecause it saw the salad dressing! 🍝🍅  \\n'}),), interrupts=()),\n",
       " StateSnapshot(values={}, next=('__start__',), config={'configurable': {'thread_id': '2', 'checkpoint_ns': '', 'checkpoint_id': '1f0798d2-07fe-60d8-bfff-876d3a937b23'}}, metadata={'source': 'input', 'writes': {'__start__': {'topic': 'pasta'}}, 'step': -1, 'parents': {}, 'thread_id': '2'}, created_at='2025-08-15T04:05:49.108655+00:00', parent_config=None, tasks=(PregelTask(id='e252781a-c518-d533-9651-14c240750e68', name='__start__', path=('__pregel_pull', '__start__'), error=None, interrupts=(), state=None, result={'topic': 'pasta'}),), interrupts=())]"
      ]
     },
     "execution_count": 15,
     "metadata": {},
     "output_type": "execute_result"
    }
   ],
   "source": [
    "list(workflow.get_state_history(config2))"
   ]
  },
  {
   "cell_type": "markdown",
   "id": "5fccccee",
   "metadata": {},
   "source": [
    "### Time Travel"
   ]
  },
  {
   "cell_type": "code",
   "execution_count": 15,
   "id": "b5bfa235",
   "metadata": {},
   "outputs": [
    {
     "data": {
      "text/plain": [
       "StateSnapshot(values={'topic': 'pizza', 'joke': 'Why did the pizza slice go to the doctor? \\n\\nBecause it was feeling a little cheesy! 🍕🩺  \\n'}, next=('generate_explanation',), config={'configurable': {'thread_id': '1', 'checkpoint_id': '1f0798b7-b9f4-6fac-8001-a91c7940795f'}}, metadata={'source': 'loop', 'writes': {'generate_joke': {'joke': 'Why did the pizza slice go to the doctor? \\n\\nBecause it was feeling a little cheesy! 🍕🩺  \\n'}}, 'step': 1, 'parents': {}, 'thread_id': '1'}, created_at='2025-08-15T03:54:02.993860+00:00', parent_config={'configurable': {'thread_id': '1', 'checkpoint_ns': '', 'checkpoint_id': '1f0798b7-b387-6598-8000-420383c8d89b'}}, tasks=(PregelTask(id='38df8635-e47b-3414-43b4-8ea2a5eb002c', name='generate_explanation', path=('__pregel_pull', 'generate_explanation'), error=None, interrupts=(), state=None, result={'explanation': 'This joke plays on the double meaning of the word \"cheesy.\" \\n\\n* **Literal meaning:** Pizza is made with cheese, so a pizza slice literally *is* cheesy.\\n\\n* **Figurative meaning:** \"Cheesy\" can also mean something that is corny, cheesy, or unoriginal.  \\n\\nThe joke sets up the expectation that the pizza slice is literally feeling unwell because of its cheese content. However, the punchline reveals the humorous twist by using \"cheesy\" in its figurative sense, implying the pizza slice is feeling embarrassed or awkward.  \\n\\n\\nLet me know if you\\'d like to hear another joke! 😄 \\n'}),), interrupts=())"
      ]
     },
     "execution_count": 15,
     "metadata": {},
     "output_type": "execute_result"
    }
   ],
   "source": [
    "workflow.get_state({\"configurable\": {\"thread_id\": \"1\", \"checkpoint_id\": \"1f0798b7-b9f4-6fac-8001-a91c7940795f\"}})"
   ]
  },
  {
   "cell_type": "code",
   "execution_count": 111,
   "id": "1a7d2e73",
   "metadata": {},
   "outputs": [
    {
     "data": {
      "text/plain": [
       "{'topic': 'pizza',\n",
       " 'joke': 'Why did the mushroom go to the pizza party? Because he was a fungi and everyone wanted a pizza him!',\n",
       " 'explanation': 'This joke plays on the word \"fun guy\" (fungi) which sounds like \"fungi,\" a type of mushroom. The play on words is that the mushroom went to the pizza party because he was a \"fun guy\" and people wanted to \"pizza\" (see) him. The joke is a pun that combines the idea of mushrooms being fungi with the concept of being a fun person at a party.'}"
      ]
     },
     "execution_count": 111,
     "metadata": {},
     "output_type": "execute_result"
    }
   ],
   "source": [
    "workflow.invoke(None, {\"configurable\": {\"thread_id\": \"1\", \"checkpoint_id\": \"1f06cc6e-7232-6cb1-8000-f71609e6cec5\"}})"
   ]
  },
  {
   "cell_type": "code",
   "execution_count": 112,
   "id": "cd55cf35",
   "metadata": {},
   "outputs": [
    {
     "data": {
      "text/plain": [
       "[StateSnapshot(values={'topic': 'pizza', 'joke': 'Why did the mushroom go to the pizza party? Because he was a fungi and everyone wanted a pizza him!', 'explanation': 'This joke plays on the word \"fun guy\" (fungi) which sounds like \"fungi,\" a type of mushroom. The play on words is that the mushroom went to the pizza party because he was a \"fun guy\" and people wanted to \"pizza\" (see) him. The joke is a pun that combines the idea of mushrooms being fungi with the concept of being a fun person at a party.'}, next=(), config={'configurable': {'thread_id': '1', 'checkpoint_ns': '', 'checkpoint_id': '1f06cc70-100a-6bff-8002-7d6c3d37b1f4'}}, metadata={'source': 'loop', 'step': 2, 'parents': {}, 'thread_id': '1'}, created_at='2025-07-29T21:57:21.959833+00:00', parent_config={'configurable': {'thread_id': '1', 'checkpoint_ns': '', 'checkpoint_id': '1f06cc70-064c-630b-8001-707d60a085ad'}}, tasks=(), interrupts=()),\n",
       " StateSnapshot(values={'topic': 'pizza', 'joke': 'Why did the mushroom go to the pizza party? Because he was a fungi and everyone wanted a pizza him!'}, next=('generate_explanation',), config={'configurable': {'thread_id': '1', 'checkpoint_ns': '', 'checkpoint_id': '1f06cc70-064c-630b-8001-707d60a085ad'}}, metadata={'source': 'loop', 'step': 1, 'parents': {}, 'thread_id': '1'}, created_at='2025-07-29T21:57:20.938061+00:00', parent_config={'configurable': {'thread_id': '1', 'checkpoint_ns': '', 'checkpoint_id': '1f06cc6e-7232-6cb1-8000-f71609e6cec5'}}, tasks=(PregelTask(id='d5be7a49-5b24-1968-3d22-a35343a9ae76', name='generate_explanation', path=('__pregel_pull', 'generate_explanation'), error=None, interrupts=(), state=None, result={'explanation': 'This joke plays on the word \"fun guy\" (fungi) which sounds like \"fungi,\" a type of mushroom. The play on words is that the mushroom went to the pizza party because he was a \"fun guy\" and people wanted to \"pizza\" (see) him. The joke is a pun that combines the idea of mushrooms being fungi with the concept of being a fun person at a party.'}),), interrupts=()),\n",
       " StateSnapshot(values={'topic': 'pizza', 'joke': 'Why did the pizza go to the doctor? Because it was feeling a little saucy!', 'explanation': 'This joke plays on the double meaning of the word \"saucy.\" In one sense, \"saucy\" can mean bold, impertinent, or sassy. But in the context of a pizza, \"saucy\" refers to the tomato sauce typically used as a base on pizzas. So when the pizza went to the doctor because it was feeling \"saucy,\" it implies that the pizza was not feeling well due to too much sauce, rather than being bold or sassy. The humor comes from the unexpected twist on the word\\'s meaning.'}, next=(), config={'configurable': {'thread_id': '1', 'checkpoint_ns': '', 'checkpoint_id': '1f06cc6e-93a2-6a08-8002-395e36be0f5e'}}, metadata={'source': 'loop', 'step': 2, 'parents': {}, 'thread_id': '1'}, created_at='2025-07-29T21:56:42.071296+00:00', parent_config={'configurable': {'thread_id': '1', 'checkpoint_ns': '', 'checkpoint_id': '1f06cc6e-7a2f-60ea-8001-4ac26c539f8d'}}, tasks=(), interrupts=()),\n",
       " StateSnapshot(values={'topic': 'pizza', 'joke': 'Why did the pizza go to the doctor? Because it was feeling a little saucy!'}, next=('generate_explanation',), config={'configurable': {'thread_id': '1', 'checkpoint_ns': '', 'checkpoint_id': '1f06cc6e-7a2f-60ea-8001-4ac26c539f8d'}}, metadata={'source': 'loop', 'step': 1, 'parents': {}, 'thread_id': '1'}, created_at='2025-07-29T21:56:39.402519+00:00', parent_config={'configurable': {'thread_id': '1', 'checkpoint_ns': '', 'checkpoint_id': '1f06cc6e-7232-6cb1-8000-f71609e6cec5'}}, tasks=(PregelTask(id='1f8e036d-b599-6074-0dac-c200937328d4', name='generate_explanation', path=('__pregel_pull', 'generate_explanation'), error=None, interrupts=(), state=None, result={'explanation': 'This joke plays on the double meaning of the word \"saucy.\" In one sense, \"saucy\" can mean bold, impertinent, or sassy. But in the context of a pizza, \"saucy\" refers to the tomato sauce typically used as a base on pizzas. So when the pizza went to the doctor because it was feeling \"saucy,\" it implies that the pizza was not feeling well due to too much sauce, rather than being bold or sassy. The humor comes from the unexpected twist on the word\\'s meaning.'}),), interrupts=()),\n",
       " StateSnapshot(values={'topic': 'pizza'}, next=('generate_joke',), config={'configurable': {'thread_id': '1', 'checkpoint_ns': '', 'checkpoint_id': '1f06cc6e-7232-6cb1-8000-f71609e6cec5'}}, metadata={'source': 'loop', 'step': 0, 'parents': {}, 'thread_id': '1'}, created_at='2025-07-29T21:56:38.565188+00:00', parent_config={'configurable': {'thread_id': '1', 'checkpoint_ns': '', 'checkpoint_id': '1f06cc6e-7230-65a8-bfff-0a96c2fc4e11'}}, tasks=(PregelTask(id='dcd96e38-1f32-5ed6-9f44-fa2b22c193f0', name='generate_joke', path=('__pregel_pull', 'generate_joke'), error=None, interrupts=(), state=None, result={'joke': 'Why did the pizza go to the doctor? Because it was feeling a little saucy!'}),), interrupts=()),\n",
       " StateSnapshot(values={}, next=('__start__',), config={'configurable': {'thread_id': '1', 'checkpoint_ns': '', 'checkpoint_id': '1f06cc6e-7230-65a8-bfff-0a96c2fc4e11'}}, metadata={'source': 'input', 'step': -1, 'parents': {}, 'thread_id': '1'}, created_at='2025-07-29T21:56:38.564189+00:00', parent_config=None, tasks=(PregelTask(id='2d4d902e-419f-6dff-1b83-385121fc185e', name='__start__', path=('__pregel_pull', '__start__'), error=None, interrupts=(), state=None, result={'topic': 'pizza'}),), interrupts=())]"
      ]
     },
     "execution_count": 112,
     "metadata": {},
     "output_type": "execute_result"
    }
   ],
   "source": [
    "list(workflow.get_state_history(config1))"
   ]
  },
  {
   "cell_type": "markdown",
   "id": "ab1b895e",
   "metadata": {},
   "source": [
    "#### Updating State"
   ]
  },
  {
   "cell_type": "code",
   "execution_count": 113,
   "id": "19378d86",
   "metadata": {},
   "outputs": [
    {
     "data": {
      "text/plain": [
       "{'configurable': {'thread_id': '1',\n",
       "  'checkpoint_ns': '',\n",
       "  'checkpoint_id': '1f06cc72-ca16-6359-8001-7eea05e07dd2'}}"
      ]
     },
     "execution_count": 113,
     "metadata": {},
     "output_type": "execute_result"
    }
   ],
   "source": [
    "workflow.update_state({\"configurable\": {\"thread_id\": \"1\", \"checkpoint_id\": \"1f06cc6e-7232-6cb1-8000-f71609e6cec5\", \"checkpoint_ns\": \"\"}}, {'topic':'samosa'})"
   ]
  },
  {
   "cell_type": "code",
   "execution_count": 114,
   "id": "7c486bff",
   "metadata": {},
   "outputs": [
    {
     "data": {
      "text/plain": [
       "[StateSnapshot(values={'topic': 'samosa'}, next=('generate_joke',), config={'configurable': {'thread_id': '1', 'checkpoint_ns': '', 'checkpoint_id': '1f06cc72-ca16-6359-8001-7eea05e07dd2'}}, metadata={'source': 'update', 'step': 1, 'parents': {}, 'thread_id': '1'}, created_at='2025-07-29T21:58:35.155132+00:00', parent_config={'configurable': {'thread_id': '1', 'checkpoint_ns': '', 'checkpoint_id': '1f06cc6e-7232-6cb1-8000-f71609e6cec5'}}, tasks=(PregelTask(id='0f085bb0-c1e8-d9fd-fb15-c427126b7cd6', name='generate_joke', path=('__pregel_pull', 'generate_joke'), error=None, interrupts=(), state=None, result=None),), interrupts=()),\n",
       " StateSnapshot(values={'topic': 'pizza', 'joke': 'Why did the mushroom go to the pizza party? Because he was a fungi and everyone wanted a pizza him!', 'explanation': 'This joke plays on the word \"fun guy\" (fungi) which sounds like \"fungi,\" a type of mushroom. The play on words is that the mushroom went to the pizza party because he was a \"fun guy\" and people wanted to \"pizza\" (see) him. The joke is a pun that combines the idea of mushrooms being fungi with the concept of being a fun person at a party.'}, next=(), config={'configurable': {'thread_id': '1', 'checkpoint_ns': '', 'checkpoint_id': '1f06cc70-100a-6bff-8002-7d6c3d37b1f4'}}, metadata={'source': 'loop', 'step': 2, 'parents': {}, 'thread_id': '1'}, created_at='2025-07-29T21:57:21.959833+00:00', parent_config={'configurable': {'thread_id': '1', 'checkpoint_ns': '', 'checkpoint_id': '1f06cc70-064c-630b-8001-707d60a085ad'}}, tasks=(), interrupts=()),\n",
       " StateSnapshot(values={'topic': 'pizza', 'joke': 'Why did the mushroom go to the pizza party? Because he was a fungi and everyone wanted a pizza him!'}, next=('generate_explanation',), config={'configurable': {'thread_id': '1', 'checkpoint_ns': '', 'checkpoint_id': '1f06cc70-064c-630b-8001-707d60a085ad'}}, metadata={'source': 'loop', 'step': 1, 'parents': {}, 'thread_id': '1'}, created_at='2025-07-29T21:57:20.938061+00:00', parent_config={'configurable': {'thread_id': '1', 'checkpoint_ns': '', 'checkpoint_id': '1f06cc6e-7232-6cb1-8000-f71609e6cec5'}}, tasks=(PregelTask(id='d5be7a49-5b24-1968-3d22-a35343a9ae76', name='generate_explanation', path=('__pregel_pull', 'generate_explanation'), error=None, interrupts=(), state=None, result={'explanation': 'This joke plays on the word \"fun guy\" (fungi) which sounds like \"fungi,\" a type of mushroom. The play on words is that the mushroom went to the pizza party because he was a \"fun guy\" and people wanted to \"pizza\" (see) him. The joke is a pun that combines the idea of mushrooms being fungi with the concept of being a fun person at a party.'}),), interrupts=()),\n",
       " StateSnapshot(values={'topic': 'pizza', 'joke': 'Why did the pizza go to the doctor? Because it was feeling a little saucy!', 'explanation': 'This joke plays on the double meaning of the word \"saucy.\" In one sense, \"saucy\" can mean bold, impertinent, or sassy. But in the context of a pizza, \"saucy\" refers to the tomato sauce typically used as a base on pizzas. So when the pizza went to the doctor because it was feeling \"saucy,\" it implies that the pizza was not feeling well due to too much sauce, rather than being bold or sassy. The humor comes from the unexpected twist on the word\\'s meaning.'}, next=(), config={'configurable': {'thread_id': '1', 'checkpoint_ns': '', 'checkpoint_id': '1f06cc6e-93a2-6a08-8002-395e36be0f5e'}}, metadata={'source': 'loop', 'step': 2, 'parents': {}, 'thread_id': '1'}, created_at='2025-07-29T21:56:42.071296+00:00', parent_config={'configurable': {'thread_id': '1', 'checkpoint_ns': '', 'checkpoint_id': '1f06cc6e-7a2f-60ea-8001-4ac26c539f8d'}}, tasks=(), interrupts=()),\n",
       " StateSnapshot(values={'topic': 'pizza', 'joke': 'Why did the pizza go to the doctor? Because it was feeling a little saucy!'}, next=('generate_explanation',), config={'configurable': {'thread_id': '1', 'checkpoint_ns': '', 'checkpoint_id': '1f06cc6e-7a2f-60ea-8001-4ac26c539f8d'}}, metadata={'source': 'loop', 'step': 1, 'parents': {}, 'thread_id': '1'}, created_at='2025-07-29T21:56:39.402519+00:00', parent_config={'configurable': {'thread_id': '1', 'checkpoint_ns': '', 'checkpoint_id': '1f06cc6e-7232-6cb1-8000-f71609e6cec5'}}, tasks=(PregelTask(id='1f8e036d-b599-6074-0dac-c200937328d4', name='generate_explanation', path=('__pregel_pull', 'generate_explanation'), error=None, interrupts=(), state=None, result={'explanation': 'This joke plays on the double meaning of the word \"saucy.\" In one sense, \"saucy\" can mean bold, impertinent, or sassy. But in the context of a pizza, \"saucy\" refers to the tomato sauce typically used as a base on pizzas. So when the pizza went to the doctor because it was feeling \"saucy,\" it implies that the pizza was not feeling well due to too much sauce, rather than being bold or sassy. The humor comes from the unexpected twist on the word\\'s meaning.'}),), interrupts=()),\n",
       " StateSnapshot(values={'topic': 'pizza'}, next=('generate_joke',), config={'configurable': {'thread_id': '1', 'checkpoint_ns': '', 'checkpoint_id': '1f06cc6e-7232-6cb1-8000-f71609e6cec5'}}, metadata={'source': 'loop', 'step': 0, 'parents': {}, 'thread_id': '1'}, created_at='2025-07-29T21:56:38.565188+00:00', parent_config={'configurable': {'thread_id': '1', 'checkpoint_ns': '', 'checkpoint_id': '1f06cc6e-7230-65a8-bfff-0a96c2fc4e11'}}, tasks=(PregelTask(id='dcd96e38-1f32-5ed6-9f44-fa2b22c193f0', name='generate_joke', path=('__pregel_pull', 'generate_joke'), error=None, interrupts=(), state=None, result={'joke': 'Why did the pizza go to the doctor? Because it was feeling a little saucy!'}),), interrupts=()),\n",
       " StateSnapshot(values={}, next=('__start__',), config={'configurable': {'thread_id': '1', 'checkpoint_ns': '', 'checkpoint_id': '1f06cc6e-7230-65a8-bfff-0a96c2fc4e11'}}, metadata={'source': 'input', 'step': -1, 'parents': {}, 'thread_id': '1'}, created_at='2025-07-29T21:56:38.564189+00:00', parent_config=None, tasks=(PregelTask(id='2d4d902e-419f-6dff-1b83-385121fc185e', name='__start__', path=('__pregel_pull', '__start__'), error=None, interrupts=(), state=None, result={'topic': 'pizza'}),), interrupts=())]"
      ]
     },
     "execution_count": 114,
     "metadata": {},
     "output_type": "execute_result"
    }
   ],
   "source": [
    "list(workflow.get_state_history(config1))"
   ]
  },
  {
   "cell_type": "code",
   "execution_count": 115,
   "id": "58f63a80",
   "metadata": {},
   "outputs": [
    {
     "data": {
      "text/plain": [
       "{'topic': 'samosa',\n",
       " 'joke': 'Why did the samosa bring a ladder to the party? \\nBecause it wanted to be the best snack in the room and rise to the occasion!',\n",
       " 'explanation': 'This joke plays on the double meaning of the word \"rise.\" In one sense, \"rise\" means to physically move upwards, which is why the samosa brought a ladder to the party. However, in another sense, \"rise\" can also mean to perform well or excel, as in rising to the occasion. So, the samosa brought a ladder to symbolize its desire to physically rise above the other snacks at the party and also to metaphorically rise to the occasion by being the best snack in the room.'}"
      ]
     },
     "execution_count": 115,
     "metadata": {},
     "output_type": "execute_result"
    }
   ],
   "source": [
    "workflow.invoke(None, {\"configurable\": {\"thread_id\": \"1\", \"checkpoint_id\": \"1f06cc72-ca16-6359-8001-7eea05e07dd2\"}})"
   ]
  },
  {
   "cell_type": "code",
   "execution_count": 116,
   "id": "db645da9",
   "metadata": {},
   "outputs": [
    {
     "data": {
      "text/plain": [
       "[StateSnapshot(values={'topic': 'samosa', 'joke': 'Why did the samosa bring a ladder to the party? \\nBecause it wanted to be the best snack in the room and rise to the occasion!', 'explanation': 'This joke plays on the double meaning of the word \"rise.\" In one sense, \"rise\" means to physically move upwards, which is why the samosa brought a ladder to the party. However, in another sense, \"rise\" can also mean to perform well or excel, as in rising to the occasion. So, the samosa brought a ladder to symbolize its desire to physically rise above the other snacks at the party and also to metaphorically rise to the occasion by being the best snack in the room.'}, next=(), config={'configurable': {'thread_id': '1', 'checkpoint_ns': '', 'checkpoint_id': '1f06cc75-4407-6195-8003-b08dcfd27511'}}, metadata={'source': 'loop', 'step': 3, 'parents': {}, 'thread_id': '1'}, created_at='2025-07-29T21:59:41.628661+00:00', parent_config={'configurable': {'thread_id': '1', 'checkpoint_ns': '', 'checkpoint_id': '1f06cc75-334a-69a5-8002-e7b30238fdad'}}, tasks=(), interrupts=()),\n",
       " StateSnapshot(values={'topic': 'samosa', 'joke': 'Why did the samosa bring a ladder to the party? \\nBecause it wanted to be the best snack in the room and rise to the occasion!'}, next=('generate_explanation',), config={'configurable': {'thread_id': '1', 'checkpoint_ns': '', 'checkpoint_id': '1f06cc75-334a-69a5-8002-e7b30238fdad'}}, metadata={'source': 'loop', 'step': 2, 'parents': {}, 'thread_id': '1'}, created_at='2025-07-29T21:59:39.873731+00:00', parent_config={'configurable': {'thread_id': '1', 'checkpoint_ns': '', 'checkpoint_id': '1f06cc72-ca16-6359-8001-7eea05e07dd2'}}, tasks=(PregelTask(id='f1746623-5449-6d92-099f-5d303c27d887', name='generate_explanation', path=('__pregel_pull', 'generate_explanation'), error=None, interrupts=(), state=None, result={'explanation': 'This joke plays on the double meaning of the word \"rise.\" In one sense, \"rise\" means to physically move upwards, which is why the samosa brought a ladder to the party. However, in another sense, \"rise\" can also mean to perform well or excel, as in rising to the occasion. So, the samosa brought a ladder to symbolize its desire to physically rise above the other snacks at the party and also to metaphorically rise to the occasion by being the best snack in the room.'}),), interrupts=()),\n",
       " StateSnapshot(values={'topic': 'samosa'}, next=('generate_joke',), config={'configurable': {'thread_id': '1', 'checkpoint_ns': '', 'checkpoint_id': '1f06cc72-ca16-6359-8001-7eea05e07dd2'}}, metadata={'source': 'update', 'step': 1, 'parents': {}, 'thread_id': '1'}, created_at='2025-07-29T21:58:35.155132+00:00', parent_config={'configurable': {'thread_id': '1', 'checkpoint_ns': '', 'checkpoint_id': '1f06cc6e-7232-6cb1-8000-f71609e6cec5'}}, tasks=(PregelTask(id='0f085bb0-c1e8-d9fd-fb15-c427126b7cd6', name='generate_joke', path=('__pregel_pull', 'generate_joke'), error=None, interrupts=(), state=None, result={'joke': 'Why did the samosa bring a ladder to the party? \\nBecause it wanted to be the best snack in the room and rise to the occasion!'}),), interrupts=()),\n",
       " StateSnapshot(values={'topic': 'pizza', 'joke': 'Why did the mushroom go to the pizza party? Because he was a fungi and everyone wanted a pizza him!', 'explanation': 'This joke plays on the word \"fun guy\" (fungi) which sounds like \"fungi,\" a type of mushroom. The play on words is that the mushroom went to the pizza party because he was a \"fun guy\" and people wanted to \"pizza\" (see) him. The joke is a pun that combines the idea of mushrooms being fungi with the concept of being a fun person at a party.'}, next=(), config={'configurable': {'thread_id': '1', 'checkpoint_ns': '', 'checkpoint_id': '1f06cc70-100a-6bff-8002-7d6c3d37b1f4'}}, metadata={'source': 'loop', 'step': 2, 'parents': {}, 'thread_id': '1'}, created_at='2025-07-29T21:57:21.959833+00:00', parent_config={'configurable': {'thread_id': '1', 'checkpoint_ns': '', 'checkpoint_id': '1f06cc70-064c-630b-8001-707d60a085ad'}}, tasks=(), interrupts=()),\n",
       " StateSnapshot(values={'topic': 'pizza', 'joke': 'Why did the mushroom go to the pizza party? Because he was a fungi and everyone wanted a pizza him!'}, next=('generate_explanation',), config={'configurable': {'thread_id': '1', 'checkpoint_ns': '', 'checkpoint_id': '1f06cc70-064c-630b-8001-707d60a085ad'}}, metadata={'source': 'loop', 'step': 1, 'parents': {}, 'thread_id': '1'}, created_at='2025-07-29T21:57:20.938061+00:00', parent_config={'configurable': {'thread_id': '1', 'checkpoint_ns': '', 'checkpoint_id': '1f06cc6e-7232-6cb1-8000-f71609e6cec5'}}, tasks=(PregelTask(id='d5be7a49-5b24-1968-3d22-a35343a9ae76', name='generate_explanation', path=('__pregel_pull', 'generate_explanation'), error=None, interrupts=(), state=None, result={'explanation': 'This joke plays on the word \"fun guy\" (fungi) which sounds like \"fungi,\" a type of mushroom. The play on words is that the mushroom went to the pizza party because he was a \"fun guy\" and people wanted to \"pizza\" (see) him. The joke is a pun that combines the idea of mushrooms being fungi with the concept of being a fun person at a party.'}),), interrupts=()),\n",
       " StateSnapshot(values={'topic': 'pizza', 'joke': 'Why did the pizza go to the doctor? Because it was feeling a little saucy!', 'explanation': 'This joke plays on the double meaning of the word \"saucy.\" In one sense, \"saucy\" can mean bold, impertinent, or sassy. But in the context of a pizza, \"saucy\" refers to the tomato sauce typically used as a base on pizzas. So when the pizza went to the doctor because it was feeling \"saucy,\" it implies that the pizza was not feeling well due to too much sauce, rather than being bold or sassy. The humor comes from the unexpected twist on the word\\'s meaning.'}, next=(), config={'configurable': {'thread_id': '1', 'checkpoint_ns': '', 'checkpoint_id': '1f06cc6e-93a2-6a08-8002-395e36be0f5e'}}, metadata={'source': 'loop', 'step': 2, 'parents': {}, 'thread_id': '1'}, created_at='2025-07-29T21:56:42.071296+00:00', parent_config={'configurable': {'thread_id': '1', 'checkpoint_ns': '', 'checkpoint_id': '1f06cc6e-7a2f-60ea-8001-4ac26c539f8d'}}, tasks=(), interrupts=()),\n",
       " StateSnapshot(values={'topic': 'pizza', 'joke': 'Why did the pizza go to the doctor? Because it was feeling a little saucy!'}, next=('generate_explanation',), config={'configurable': {'thread_id': '1', 'checkpoint_ns': '', 'checkpoint_id': '1f06cc6e-7a2f-60ea-8001-4ac26c539f8d'}}, metadata={'source': 'loop', 'step': 1, 'parents': {}, 'thread_id': '1'}, created_at='2025-07-29T21:56:39.402519+00:00', parent_config={'configurable': {'thread_id': '1', 'checkpoint_ns': '', 'checkpoint_id': '1f06cc6e-7232-6cb1-8000-f71609e6cec5'}}, tasks=(PregelTask(id='1f8e036d-b599-6074-0dac-c200937328d4', name='generate_explanation', path=('__pregel_pull', 'generate_explanation'), error=None, interrupts=(), state=None, result={'explanation': 'This joke plays on the double meaning of the word \"saucy.\" In one sense, \"saucy\" can mean bold, impertinent, or sassy. But in the context of a pizza, \"saucy\" refers to the tomato sauce typically used as a base on pizzas. So when the pizza went to the doctor because it was feeling \"saucy,\" it implies that the pizza was not feeling well due to too much sauce, rather than being bold or sassy. The humor comes from the unexpected twist on the word\\'s meaning.'}),), interrupts=()),\n",
       " StateSnapshot(values={'topic': 'pizza'}, next=('generate_joke',), config={'configurable': {'thread_id': '1', 'checkpoint_ns': '', 'checkpoint_id': '1f06cc6e-7232-6cb1-8000-f71609e6cec5'}}, metadata={'source': 'loop', 'step': 0, 'parents': {}, 'thread_id': '1'}, created_at='2025-07-29T21:56:38.565188+00:00', parent_config={'configurable': {'thread_id': '1', 'checkpoint_ns': '', 'checkpoint_id': '1f06cc6e-7230-65a8-bfff-0a96c2fc4e11'}}, tasks=(PregelTask(id='dcd96e38-1f32-5ed6-9f44-fa2b22c193f0', name='generate_joke', path=('__pregel_pull', 'generate_joke'), error=None, interrupts=(), state=None, result={'joke': 'Why did the pizza go to the doctor? Because it was feeling a little saucy!'}),), interrupts=()),\n",
       " StateSnapshot(values={}, next=('__start__',), config={'configurable': {'thread_id': '1', 'checkpoint_ns': '', 'checkpoint_id': '1f06cc6e-7230-65a8-bfff-0a96c2fc4e11'}}, metadata={'source': 'input', 'step': -1, 'parents': {}, 'thread_id': '1'}, created_at='2025-07-29T21:56:38.564189+00:00', parent_config=None, tasks=(PregelTask(id='2d4d902e-419f-6dff-1b83-385121fc185e', name='__start__', path=('__pregel_pull', '__start__'), error=None, interrupts=(), state=None, result={'topic': 'pizza'}),), interrupts=())]"
      ]
     },
     "execution_count": 116,
     "metadata": {},
     "output_type": "execute_result"
    }
   ],
   "source": [
    "list(workflow.get_state_history(config1))"
   ]
  },
  {
   "cell_type": "markdown",
   "id": "d8435127",
   "metadata": {},
   "source": [
    "### Fault Tolerance"
   ]
  },
  {
   "cell_type": "code",
   "execution_count": 3,
   "id": "b7aacf7e",
   "metadata": {},
   "outputs": [],
   "source": [
    "from langgraph.graph import StateGraph, END\n",
    "from langgraph.checkpoint.memory import InMemorySaver\n",
    "from typing import TypedDict\n",
    "import time"
   ]
  },
  {
   "cell_type": "code",
   "execution_count": 4,
   "id": "095de12d",
   "metadata": {},
   "outputs": [],
   "source": [
    "# 1. Define the state\n",
    "class CrashState(TypedDict):\n",
    "    input: str\n",
    "    step1: str\n",
    "    step2: str"
   ]
  },
  {
   "cell_type": "code",
   "execution_count": 5,
   "id": "13365a36",
   "metadata": {},
   "outputs": [],
   "source": [
    "# 2. Define steps\n",
    "def step_1(state: CrashState) -> CrashState:\n",
    "    print(\"✅ Step 1 executed\")\n",
    "    return {\"step1\": \"done\", \"input\": state[\"input\"]}\n",
    "\n",
    "def step_2(state: CrashState) -> CrashState:\n",
    "    print(\"⏳ Step 2 hanging... now manually interrupt from the notebook toolbar (STOP button)\")\n",
    "    time.sleep(40)  # Simulate long-running hang\n",
    "    return {\"step2\": \"done\"}\n",
    "\n",
    "def step_3(state: CrashState) -> CrashState:\n",
    "    print(\"✅ Step 3 executed\")\n",
    "    return {\"done\": True}"
   ]
  },
  {
   "cell_type": "code",
   "execution_count": 6,
   "id": "2838a3a1",
   "metadata": {},
   "outputs": [],
   "source": [
    "# 3. Build the graph\n",
    "builder = StateGraph(CrashState)\n",
    "builder.add_node(\"step_1\", step_1)\n",
    "builder.add_node(\"step_2\", step_2)\n",
    "builder.add_node(\"step_3\", step_3)\n",
    "\n",
    "# builder.set_entry_point(\"step_1\")\n",
    "builder.add_edge(START, \"step_1\")\n",
    "builder.add_edge(\"step_1\", \"step_2\")\n",
    "builder.add_edge(\"step_2\", \"step_3\")\n",
    "builder.add_edge(\"step_3\", END)\n",
    "\n",
    "checkpointer = InMemorySaver()\n",
    "graph = builder.compile(checkpointer=checkpointer)"
   ]
  },
  {
   "cell_type": "code",
   "execution_count": 7,
   "id": "addd58df",
   "metadata": {},
   "outputs": [
    {
     "data": {
      "image/png": "[encoded data removed]",
      "text/plain": [
       "<langgraph.graph.state.CompiledStateGraph object at 0x00000200FFD52150>"
      ]
     },
     "execution_count": 7,
     "metadata": {},
     "output_type": "execute_result"
    }
   ],
   "source": [
    "graph"
   ]
  },
  {
   "cell_type": "code",
   "execution_count": 8,
   "id": "17c012e7",
   "metadata": {},
   "outputs": [
    {
     "name": "stdout",
     "output_type": "stream",
     "text": [
      "▶️ Running graph: Please manually interrupt during Step 2...\n",
      "✅ Step 1 executed\n",
      "⏳ Step 2 hanging... now manually interrupt from the notebook toolbar (STOP button)\n",
      "❌ Kernel manually interrupted (crash simulated).\n"
     ]
    }
   ],
   "source": [
    "try:\n",
    "    print(\"▶️ Running graph: Please manually interrupt during Step 2...\")\n",
    "    graph.invoke({\"input\": \"start\"}, config={\"configurable\": {\"thread_id\": 'thread-1'}})\n",
    "except KeyboardInterrupt:\n",
    "    print(\"❌ Kernel manually interrupted (crash simulated).\")"
   ]
  },
  {
   "cell_type": "code",
   "execution_count": 9,
   "id": "c0faf8df-8d0c-4849-b0e1-2429398a7b44",
   "metadata": {},
   "outputs": [
    {
     "data": {
      "text/plain": [
       "[StateSnapshot(values={'input': 'start', 'step1': 'done'}, next=('step_2',), config={'configurable': {'thread_id': 'thread-1', 'checkpoint_ns': '', 'checkpoint_id': '1f0798d8-dc0b-6577-8001-15050c4e4902'}}, metadata={'source': 'loop', 'writes': {'step_1': {'step1': 'done', 'input': 'start'}}, 'step': 1, 'parents': {}, 'thread_id': 'thread-1'}, created_at='2025-08-15T04:08:52.405183+00:00', parent_config={'configurable': {'thread_id': 'thread-1', 'checkpoint_ns': '', 'checkpoint_id': '1f0798d8-dc08-66ce-8000-1b6cdf0b5577'}}, tasks=(PregelTask(id='97c21a56-bcb4-546b-061a-e70953ca633d', name='step_2', path=('__pregel_pull', 'step_2'), error=None, interrupts=(), state=None, result=None),), interrupts=()),\n",
       " StateSnapshot(values={'input': 'start'}, next=('step_1',), config={'configurable': {'thread_id': 'thread-1', 'checkpoint_ns': '', 'checkpoint_id': '1f0798d8-dc08-66ce-8000-1b6cdf0b5577'}}, metadata={'source': 'loop', 'writes': None, 'step': 0, 'parents': {}, 'thread_id': 'thread-1'}, created_at='2025-08-15T04:08:52.403988+00:00', parent_config={'configurable': {'thread_id': 'thread-1', 'checkpoint_ns': '', 'checkpoint_id': '1f0798d8-dc04-6c99-bfff-208c8ca02191'}}, tasks=(PregelTask(id='1389f833-289b-ca31-728a-fd48462d9bf0', name='step_1', path=('__pregel_pull', 'step_1'), error=None, interrupts=(), state=None, result={'step1': 'done', 'input': 'start'}),), interrupts=()),\n",
       " StateSnapshot(values={}, next=('__start__',), config={'configurable': {'thread_id': 'thread-1', 'checkpoint_ns': '', 'checkpoint_id': '1f0798d8-dc04-6c99-bfff-208c8ca02191'}}, metadata={'source': 'input', 'writes': {'__start__': {'input': 'start'}}, 'step': -1, 'parents': {}, 'thread_id': 'thread-1'}, created_at='2025-08-15T04:08:52.402498+00:00', parent_config=None, tasks=(PregelTask(id='d560b15d-f527-edfd-e1e7-e91534219e39', name='__start__', path=('__pregel_pull', '__start__'), error=None, interrupts=(), state=None, result={'input': 'start'}),), interrupts=())]"
      ]
     },
     "execution_count": 9,
     "metadata": {},
     "output_type": "execute_result"
    }
   ],
   "source": [
    "list(graph.get_state_history({\"configurable\": {\"thread_id\": 'thread-1'}}))"
   ]
  },
  {
   "cell_type": "code",
   "execution_count": 10,
   "id": "95df3f98",
   "metadata": {},
   "outputs": [
    {
     "name": "stdout",
     "output_type": "stream",
     "text": [
      "\n",
      "🔁 Re-running the graph to demonstrate fault tolerance...\n",
      "⏳ Step 2 hanging... now manually interrupt from the notebook toolbar (STOP button)\n",
      "✅ Step 3 executed\n",
      "\n",
      "✅ Final State: {'input': 'start', 'step1': 'done', 'step2': 'done'}\n"
     ]
    }
   ],
   "source": [
    "# 6. Re-run to show fault-tolerant resume\n",
    "print(\"\\n🔁 Re-running the graph to demonstrate fault tolerance...\")\n",
    "final_state = graph.invoke(None, config={\"configurable\": {\"thread_id\": 'thread-1'}}) ## resume from the last checkpoint\n",
    "print(\"\\n✅ Final State:\", final_state)"
   ]
  },
  {
   "cell_type": "code",
   "execution_count": 11,
   "id": "4f61ccbd",
   "metadata": {},
   "outputs": [
    {
     "data": {
      "text/plain": [
       "[StateSnapshot(values={'input': 'start', 'step1': 'done', 'step2': 'done'}, next=(), config={'configurable': {'thread_id': 'thread-1', 'checkpoint_ns': '', 'checkpoint_id': '1f0798dc-e626-630c-8003-bb31c2976864'}}, metadata={'source': 'loop', 'writes': {'step_3': None}, 'step': 3, 'parents': {}, 'thread_id': 'thread-1'}, created_at='2025-08-15T04:10:40.838938+00:00', parent_config={'configurable': {'thread_id': 'thread-1', 'checkpoint_ns': '', 'checkpoint_id': '1f0798dc-e623-681d-8002-34bc6de1a2f5'}}, tasks=(), interrupts=()),\n",
       " StateSnapshot(values={'input': 'start', 'step1': 'done', 'step2': 'done'}, next=('step_3',), config={'configurable': {'thread_id': 'thread-1', 'checkpoint_ns': '', 'checkpoint_id': '1f0798dc-e623-681d-8002-34bc6de1a2f5'}}, metadata={'source': 'loop', 'writes': {'step_2': {'step2': 'done'}}, 'step': 2, 'parents': {}, 'thread_id': 'thread-1'}, created_at='2025-08-15T04:10:40.837839+00:00', parent_config={'configurable': {'thread_id': 'thread-1', 'checkpoint_ns': '', 'checkpoint_id': '1f0798d8-dc0b-6577-8001-15050c4e4902'}}, tasks=(PregelTask(id='d8a6460b-a6a9-ab7d-9f06-12e678f35cee', name='step_3', path=('__pregel_pull', 'step_3'), error=None, interrupts=(), state=None, result={}),), interrupts=()),\n",
       " StateSnapshot(values={'input': 'start', 'step1': 'done'}, next=('step_2',), config={'configurable': {'thread_id': 'thread-1', 'checkpoint_ns': '', 'checkpoint_id': '1f0798d8-dc0b-6577-8001-15050c4e4902'}}, metadata={'source': 'loop', 'writes': {'step_1': {'step1': 'done', 'input': 'start'}}, 'step': 1, 'parents': {}, 'thread_id': 'thread-1'}, created_at='2025-08-15T04:08:52.405183+00:00', parent_config={'configurable': {'thread_id': 'thread-1', 'checkpoint_ns': '', 'checkpoint_id': '1f0798d8-dc08-66ce-8000-1b6cdf0b5577'}}, tasks=(PregelTask(id='97c21a56-bcb4-546b-061a-e70953ca633d', name='step_2', path=('__pregel_pull', 'step_2'), error=None, interrupts=(), state=None, result={'step2': 'done'}),), interrupts=()),\n",
       " StateSnapshot(values={'input': 'start'}, next=('step_1',), config={'configurable': {'thread_id': 'thread-1', 'checkpoint_ns': '', 'checkpoint_id': '1f0798d8-dc08-66ce-8000-1b6cdf0b5577'}}, metadata={'source': 'loop', 'writes': None, 'step': 0, 'parents': {}, 'thread_id': 'thread-1'}, created_at='2025-08-15T04:08:52.403988+00:00', parent_config={'configurable': {'thread_id': 'thread-1', 'checkpoint_ns': '', 'checkpoint_id': '1f0798d8-dc04-6c99-bfff-208c8ca02191'}}, tasks=(PregelTask(id='1389f833-289b-ca31-728a-fd48462d9bf0', name='step_1', path=('__pregel_pull', 'step_1'), error=None, interrupts=(), state=None, result={'step1': 'done', 'input': 'start'}),), interrupts=()),\n",
       " StateSnapshot(values={}, next=('__start__',), config={'configurable': {'thread_id': 'thread-1', 'checkpoint_ns': '', 'checkpoint_id': '1f0798d8-dc04-6c99-bfff-208c8ca02191'}}, metadata={'source': 'input', 'writes': {'__start__': {'input': 'start'}}, 'step': -1, 'parents': {}, 'thread_id': 'thread-1'}, created_at='2025-08-15T04:08:52.402498+00:00', parent_config=None, tasks=(PregelTask(id='d560b15d-f527-edfd-e1e7-e91534219e39', name='__start__', path=('__pregel_pull', '__start__'), error=None, interrupts=(), state=None, result={'input': 'start'}),), interrupts=())]"
      ]
     },
     "execution_count": 11,
     "metadata": {},
     "output_type": "execute_result"
    }
   ],
   "source": [
    "list(graph.get_state_history({\"configurable\": {\"thread_id\": 'thread-1'}}))"
   ]
  }
 ],
 "metadata": {
  "kernelspec": {
   "display_name": "Python 3 (ipykernel)",
   "language": "python",
   "name": "python3"
  },
  "language_info": {
   "codemirror_mode": {
    "name": "ipython",
    "version": 3
   },
   "file_extension": ".py",
   "mimetype": "text/x-python",
   "name": "python",
   "nbconvert_exporter": "python",
   "pygments_lexer": "ipython3",
   "version": "3.12.7"
  }
 },
 "nbformat": 4,
 "nbformat_minor": 5
}
