{
 "cells": [
  {
   "cell_type": "code",
   "execution_count": 1,
   "id": "6ac3cad9",
   "metadata": {},
   "outputs": [],
   "source": [
    "from langgraph.graph import StateGraph, START, END\n",
    "from typing import TypedDict\n",
    "from IPython.display import Image"
   ]
  },
  {
   "cell_type": "code",
   "execution_count": 2,
   "id": "a822950e",
   "metadata": {},
   "outputs": [],
   "source": [
    "class BatsmanState(TypedDict):\n",
    "    '''\n",
    "    Represents the state of a batsman in a cricket match.\n",
    "    \n",
    "    '''\n",
    "\n",
    "    runs: int\n",
    "    balls: int\n",
    "    fours: int\n",
    "    sixes: int\n",
    "\n",
    "    sr: float\n",
    "    bpb: float\n",
    "    boundary_percent: float\n",
    "    summary: str"
   ]
  },
  {
   "cell_type": "code",
   "execution_count": null,
   "id": "1954ff12",
   "metadata": {},
   "outputs": [],
   "source": [
    "def calculate_sr(state: BatsmanState) -> dict :\n",
    "\n",
    "    sr = (state['runs']/state['balls'])*100\n",
    "    \n",
    "    return {'sr': sr}"
   ]
  },
  {
   "cell_type": "code",
   "execution_count": null,
   "id": "e4689c81",
   "metadata": {},
   "outputs": [],
   "source": [
    "def calculate_bpb(state: BatsmanState) -> dict :\n",
    "\n",
    "    bpb = state['balls']/(state['fours'] + state['sixes'])\n",
    "\n",
    "    return {'bpb': bpb}"
   ]
  },
  {
   "cell_type": "code",
   "execution_count": null,
   "id": "2f0686b2",
   "metadata": {},
   "outputs": [],
   "source": [
    "def calculate_boundary_percent(state: BatsmanState) -> dict :\n",
    "\n",
    "    boundary_percent = (((state['fours'] * 4) + (state['sixes'] * 6))/state['runs'])*100\n",
    "\n",
    "    return {'boundary_percent': boundary_percent}"
   ]
  },
  {
   "cell_type": "code",
   "execution_count": null,
   "id": "9d8fdd9c",
   "metadata": {},
   "outputs": [],
   "source": [
    "def summary_batsman(state: BatsmanState) -> dict :\n",
    "\n",
    "    summary = f\"\"\"\n",
    "Strike Rate - {state['sr']} \\n\n",
    "Balls per boundary - {state['bpb']} \\n\n",
    "Boundary percent - {state['boundary_percent']}\n",
    "\"\"\"\n",
    "    \n",
    "    return {'summary': summary}"
   ]
  },
  {
   "cell_type": "code",
   "execution_count": 7,
   "id": "ba29814e",
   "metadata": {},
   "outputs": [],
   "source": [
    "graph = StateGraph(BatsmanState)\n",
    "\n",
    "graph.add_node('calculate_sr', calculate_sr)\n",
    "graph.add_node('calculate_bpb', calculate_bpb)\n",
    "graph.add_node('calculate_boundary_percent', calculate_boundary_percent)\n",
    "graph.add_node('summary_batsman', summary_batsman)\n",
    "\n",
    "# edges\n",
    "\n",
    "graph.add_edge(START, 'calculate_sr')\n",
    "graph.add_edge(START, 'calculate_bpb')\n",
    "graph.add_edge(START, 'calculate_boundary_percent')\n",
    "\n",
    "graph.add_edge('calculate_sr', 'summary_batsman')\n",
    "graph.add_edge('calculate_bpb', 'summary_batsman')\n",
    "graph.add_edge('calculate_boundary_percent', 'summary_batsman')\n",
    "\n",
    "graph.add_edge('summary_batsman', END)\n",
    "\n",
    "workflow = graph.compile()\n"
   ]
  },
  {
   "cell_type": "code",
   "execution_count": 19,
   "id": "0ceda4fe",
   "metadata": {},
   "outputs": [
    {
     "data": {
      "image/png": "[encoded data removed]",
      "text/plain": [
       "<langgraph.graph.state.CompiledStateGraph object at 0x00000289C2E78200>"
      ]
     },
     "execution_count": 19,
     "metadata": {},
     "output_type": "execute_result"
    }
   ],
   "source": [
    "workflow"
   ]
  },
  {
   "cell_type": "code",
   "execution_count": 18,
   "id": "64d43eec",
   "metadata": {},
   "outputs": [
    {
     "data": {
      "text/plain": [
       "{'runs': 100,\n",
       " 'balls': 50,\n",
       " 'fours': 6,\n",
       " 'sixes': 4,\n",
       " 'sr': 200.0,\n",
       " 'bpb': 5.0,\n",
       " 'boundary_percent': 48.0,\n",
       " 'summary': '\\nStrike Rate - 200.0 \\n\\nBalls per boundary - 5.0 \\n\\nBoundary percent - 48.0\\n'}"
      ]
     },
     "execution_count": 18,
     "metadata": {},
     "output_type": "execute_result"
    }
   ],
   "source": [
    "intial_state = {\n",
    "    'runs': 100,\n",
    "    'balls': 50,\n",
    "    'fours': 6,\n",
    "    'sixes': 4\n",
    "}\n",
    "\n",
    "workflow.invoke(intial_state)"
   ]
  },
  {
   "cell_type": "code",
   "execution_count": null,
   "id": "4a282b57",
   "metadata": {},
   "outputs": [],
   "source": []
  }
 ],
 "metadata": {
  "kernelspec": {
   "display_name": "base",
   "language": "python",
   "name": "python3"
  },
  "language_info": {
   "codemirror_mode": {
    "name": "ipython",
    "version": 3
   },
   "file_extension": ".py",
   "mimetype": "text/x-python",
   "name": "python",
   "nbconvert_exporter": "python",
   "pygments_lexer": "ipython3",
   "version": "3.12.7"
  }
 },
 "nbformat": 4,
 "nbformat_minor": 5
}
